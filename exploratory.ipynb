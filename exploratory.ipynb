{
 "cells": [
  {
   "cell_type": "code",
   "execution_count": 31,
   "id": "6dd39d65",
   "metadata": {},
   "outputs": [],
   "source": [
    "import pdfplumber\n",
    "from pathlib import Path\n",
    "import pandas as pd\n",
    "import re\n",
    "\n",
    "# Rutas\n",
    "pdf_path = Path('./data/raw/')\n",
    "output_path = Path('./data/processed/fragmentos_explorados.csv')\n",
    "\n",
    "# Acumulador\n",
    "fragmentos = []\n",
    "\n",
    "# Clasificación y extracción de número de artículo\n",
    "def analizar_fragmento(frag):\n",
    "    texto = frag.strip()\n",
    "    texto_l = texto.lower()\n",
    "\n",
    "    tipo = \"Otro\"\n",
    "    numero_articulo = None\n",
    "\n",
    "    if texto_l.startswith(\"considerando\") or \"la asamblea legislativa\" in texto_l:\n",
    "        tipo = \"Preámbulo\"\n",
    "    elif texto_l.startswith(\"capítulo\") or texto_l.startswith(\"sección\"):\n",
    "        tipo = \"Capítulo\"\n",
    "    elif texto_l.startswith(\"art.\") or texto_l.startswith(\"artículo\"):\n",
    "        tipo = \"Artículo\"\n",
    "        match = re.search(r'art(?:ículo)?\\.?\\s*(\\d+)', texto_l)\n",
    "        if match:\n",
    "            numero_articulo = int(match.group(1))\n",
    "        if \"definiciones\" in texto_l:\n",
    "            tipo = \"Definiciones\"\n",
    "    elif \"firma electrónica\" in texto_l or \"mensaje de datos\" in texto_l:\n",
    "        tipo = \"Disposición específica\"\n",
    "\n",
    "    return tipo, numero_articulo"
   ]
  },
  {
   "cell_type": "code",
   "execution_count": 32,
   "id": "9851bba4",
   "metadata": {},
   "outputs": [
    {
     "name": "stdout",
     "output_type": "stream",
     "text": [
      "Procesando: BAA0E931-E117-487D-8900-A1D9876D5FBE.pdf\n",
      "Procesando: DC5854_Reglamento aplicacion Codigo Tributario.pdf\n",
      "Procesando: Catálogos- Sistema de Transmisión - 1.1.pdf\n",
      "Procesando: 700-DGII-MN-2021-26031.pdf\n",
      "Procesando: Reformas-DTE-D.O.-20-09-2022.pdf\n",
      "Procesando: Manual de Acreditamiento y obtención de certificado de firma electrónica.pdf\n"
     ]
    },
    {
     "name": "stderr",
     "output_type": "stream",
     "text": [
      "Cannot set gray non-stroke color because /'Pattern1' is an invalid float value\n",
      "Cannot set gray non-stroke color because /'Pattern2' is an invalid float value\n",
      "Cannot set gray non-stroke color because /'Pattern3' is an invalid float value\n",
      "Cannot set gray non-stroke color because /'Pattern4' is an invalid float value\n"
     ]
    },
    {
     "name": "stdout",
     "output_type": "stream",
     "text": [
      "Procesando: DC9226_Ley_del_Impuesto_a_la_Transferencia_de_Bienes_Muebles_y_a_la_Prestacion_de_Servicios.pdf\n",
      "Procesando: Ley_de_Firma_Electrónica.pdf\n",
      "Procesando: Normativa de Cumplimiento de los Documentos Tributarios Electrónicos_Versión 1.0_15022023.pdf\n",
      "Procesando: Guía del Proceso de Incorporación para Ser Emisor De Documentos Tributarios Electrónicos.pdf\n"
     ]
    },
    {
     "name": "stderr",
     "output_type": "stream",
     "text": [
      "Cannot set gray non-stroke color because /'Pattern1' is an invalid float value\n",
      "Cannot set gray non-stroke color because /'Pattern2' is an invalid float value\n"
     ]
    },
    {
     "name": "stdout",
     "output_type": "stream",
     "text": [
      "Procesando: Manual de Usuario de la Consulta Pública de los DTE.pdf\n",
      "Procesando: Guía rápida para emitir una Factura en la plataforma Sistema de Facturación.pdf\n",
      "Procesando: Manual Técnico para la Integración Tecnológica del Sistema de Transmisión.pdf\n",
      "Procesando: Aviso mandatario referente a ventas con factura.pdf\n",
      "Procesando: Guia rápida emitir un CCF en la plataforma Sistema de Facturación.pdf\n",
      "Procesando: Manual de solicitud en línea para ser autorizado como Emisor de DTE.pdf\n",
      "Procesando: Normativa de Cumplimiento de los Documentos Tributarios Electrónicos_Versión 1.0_15022023 (1).pdf\n",
      "Procesando: Manual funcional del Sistema de Transmisión.pdf\n"
     ]
    },
    {
     "name": "stderr",
     "output_type": "stream",
     "text": [
      "Cannot set gray non-stroke color because /'Pattern1' is an invalid float value\n",
      "Cannot set gray non-stroke color because /'Pattern2' is an invalid float value\n"
     ]
    },
    {
     "name": "stdout",
     "output_type": "stream",
     "text": [
      "Procesando: Manual del usuario para la Solicitud de Ingreso al ambiente para pruebas.pdf\n",
      "Procesando: 297557B6-E5FD-4A41-B734-089751C41FDA.pdf\n",
      "Procesando: Manual de Usuario del Sitio de Emisores DTE.pdf\n"
     ]
    },
    {
     "name": "stderr",
     "output_type": "stream",
     "text": [
      "Cannot set gray non-stroke color because /'Pattern1' is an invalid float value\n",
      "Cannot set gray non-stroke color because /'Pattern2' is an invalid float value\n",
      "Cannot set gray non-stroke color because /'Pattern3' is an invalid float value\n",
      "Cannot set gray non-stroke color because /'Pattern4' is an invalid float value\n"
     ]
    },
    {
     "name": "stdout",
     "output_type": "stream",
     "text": [
      "Procesando: Manual de Usuario del Sistema de Facturación.pdf\n"
     ]
    }
   ],
   "source": [
    "# Iterar sobre todos los PDFs\n",
    "pdf_files = list(pdf_path.glob('*.pdf'))\n",
    "assert pdf_files, \"No se encontraron PDFs en ./data/raw/\"\n",
    "\n",
    "for pdf_file in pdf_files:\n",
    "    print(f\"Procesando: {pdf_file.name}\")\n",
    "    with pdfplumber.open(pdf_file) as pdf:\n",
    "        pages = [page.extract_text() for page in pdf.pages]\n",
    "    \n",
    "    raw_text = ' '.join(p for p in pages if p).replace('\\r', '').replace('\\n', ' ').strip()\n",
    "\n",
    "    # Dividir por \"Art. n\" o \"Artículo n\"\n",
    "    bloques = re.split(r'(?=Art\\.?\\s*\\d+|Artículo\\s+\\d+)', raw_text)\n",
    "    bloques = [b.strip() for b in bloques if len(b.strip()) > 50]\n",
    "\n",
    "    for b in bloques:\n",
    "        tipo, n_art = analizar_fragmento(b)\n",
    "        fragmentos.append({\n",
    "            \"documento\": pdf_file.name,\n",
    "            \"tipo_fragmento\": tipo,\n",
    "            \"numero_articulo\": n_art,\n",
    "            \"texto\": b\n",
    "        })"
   ]
  },
  {
   "cell_type": "code",
   "execution_count": 33,
   "id": "3eb1828f",
   "metadata": {},
   "outputs": [
    {
     "name": "stdout",
     "output_type": "stream",
     "text": [
      "\n",
      "✅ Guardado en: data/processed/fragmentos_explorados.csv\n"
     ]
    }
   ],
   "source": [
    "# Guardar resultado\n",
    "df = pd.DataFrame(fragmentos)\n",
    "output_path.parent.mkdir(parents=True, exist_ok=True)\n",
    "df.to_csv(output_path, index=False)\n",
    "print(f\"\\n✅ Guardado en: {output_path}\")"
   ]
  }
 ],
 "metadata": {
  "kernelspec": {
   "display_name": "Python 3",
   "language": "python",
   "name": "python3"
  },
  "language_info": {
   "codemirror_mode": {
    "name": "ipython",
    "version": 3
   },
   "file_extension": ".py",
   "mimetype": "text/x-python",
   "name": "python",
   "nbconvert_exporter": "python",
   "pygments_lexer": "ipython3",
   "version": "3.10.12"
  }
 },
 "nbformat": 4,
 "nbformat_minor": 5
}
